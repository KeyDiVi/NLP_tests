{
  "nbformat": 4,
  "nbformat_minor": 0,
  "metadata": {
    "colab": {
      "name": "Multi-Class Classification.ipynb",
      "provenance": [],
      "authorship_tag": "ABX9TyN9uRFVZoujKcZ3iwW59Mom",
      "include_colab_link": true
    },
    "kernelspec": {
      "name": "python3",
      "display_name": "Python 3"
    },
    "language_info": {
      "name": "python"
    }
  },
  "cells": [
    {
      "cell_type": "markdown",
      "metadata": {
        "id": "view-in-github",
        "colab_type": "text"
      },
      "source": [
        "<a href=\"https://colab.research.google.com/github/KeyDiVi/NLP_tests/blob/main/Multi_Class_Classification.ipynb\" target=\"_parent\"><img src=\"https://colab.research.google.com/assets/colab-badge.svg\" alt=\"Open In Colab\"/></a>"
      ]
    },
    {
      "cell_type": "code",
      "execution_count": null,
      "metadata": {
        "colab": {
          "base_uri": "https://localhost:8080/",
          "height": 35
        },
        "id": "bE-oSaDVRPGc",
        "outputId": "0a311acb-cafa-4c44-9fb9-03583e54ca4f"
      },
      "outputs": [
        {
          "output_type": "execute_result",
          "data": {
            "text/plain": [
              "'data.zip'"
            ],
            "application/vnd.google.colaboratory.intrinsic+json": {
              "type": "string"
            }
          },
          "metadata": {},
          "execution_count": 1
        }
      ],
      "source": [
        "# загружаем данные\n",
        "import gdown\n",
        "url = 'https://drive.google.com/uc?id=1C6Gd2F358wMuXszTk7EX9yEv0kbOgisc'\n",
        "out = 'data.zip'\n",
        "gdown.download(url, out, quiet=True)"
      ]
    },
    {
      "cell_type": "code",
      "source": [
        "!unzip -oq data.zip"
      ],
      "metadata": {
        "id": "hV0zxTdiRymD"
      },
      "execution_count": null,
      "outputs": []
    },
    {
      "cell_type": "code",
      "source": [
        "features = open('features.csv', 'r')\n",
        "features_data = features.read().split('\\n')[:-1]\n",
        "features.close()\n",
        "\n",
        "labels = open('labels.csv', 'r')\n",
        "labels_data = labels.read().split('\\n')[:-1]\n",
        "labels.close()\n",
        "\n",
        "X = features_data\n",
        "y = list(map(int, labels_data))"
      ],
      "metadata": {
        "id": "hNc2AwLGR1X9"
      },
      "execution_count": null,
      "outputs": []
    },
    {
      "cell_type": "code",
      "source": [
        "# разбиваем данные на обучающую и контрольную выборке\n",
        "from sklearn.model_selection import train_test_split\n",
        "X_train, X_test, y_train, y_test = train_test_split(X,y)  # X, X, y, y\n",
        "print(len(X_train), len(X_test), len(y_train), len(y_test))"
      ],
      "metadata": {
        "colab": {
          "base_uri": "https://localhost:8080/"
        },
        "id": "jPx87z9uR3sb",
        "outputId": "b4a5e241-0da0-4d3b-e2c6-0b3f991a6c14"
      },
      "execution_count": null,
      "outputs": [
        {
          "output_type": "stream",
          "name": "stdout",
          "text": [
            "2109 704 2109 704\n"
          ]
        }
      ]
    },
    {
      "cell_type": "code",
      "source": [
        "# визуализируем данные (по графику видно, что в обучающей выборке преобладают 1 и 2 классы)\n",
        "import matplotlib.pyplot as plt\n",
        "\n",
        "plt.hist(y_train, density=True)\n",
        "plt.show()"
      ],
      "metadata": {
        "colab": {
          "base_uri": "https://localhost:8080/",
          "height": 265
        },
        "id": "Np_ANDs9R_s7",
        "outputId": "dc16c0b1-3295-463c-bdef-e0724be48493"
      },
      "execution_count": null,
      "outputs": [
        {
          "output_type": "display_data",
          "data": {
            "text/plain": [
              "<Figure size 432x288 with 1 Axes>"
            ],
            "image/png": "[encoded data removed]"
          },
          "metadata": {
            "needs_background": "light"
          }
        }
      ]
    },
    {
      "cell_type": "code",
      "source": [
        "# подключаем необходимые библиотеки\n",
        "from sklearn.linear_model import LogisticRegression\n",
        "from sklearn.feature_extraction.text import TfidfVectorizer\n",
        "\n",
        "import nltk\n",
        "nltk.download('stopwords')\n",
        "from nltk.tokenize import RegexpTokenizer\n",
        "from nltk.stem.porter import PorterStemmer\n",
        "from nltk.corpus import stopwords\n",
        "from bs4 import BeautifulSoup\n",
        "StopWords = set(stopwords.words('english'))"
      ],
      "metadata": {
        "colab": {
          "base_uri": "https://localhost:8080/"
        },
        "id": "8xBwrL1pSEZ6",
        "outputId": "420eceb2-8159-4cc4-fac7-fc4005c0e1f9"
      },
      "execution_count": null,
      "outputs": [
        {
          "output_type": "stream",
          "name": "stderr",
          "text": [
            "[nltk_data] Downloading package stopwords to /root/nltk_data...\n",
            "[nltk_data]   Package stopwords is already up-to-date!\n"
          ]
        }
      ]
    },
    {
      "cell_type": "code",
      "source": [
        "# настраиваем векторайзер\n",
        "def mo_preprecessor(s):\n",
        "  return BeautifulSoup(s, 'html.parser').get_text().lower()\n",
        "def mo_tokenizer(s):\n",
        "  return [PorterStemmer().stem(w) for w in RegexpTokenizer('\\w+').tokenize(s) if w not in StopWords]\n",
        "tfidf = TfidfVectorizer(preprocessor=mo_preprecessor, tokenizer=mo_tokenizer)"
      ],
      "metadata": {
        "id": "i1a3cBCYSLA6"
      },
      "execution_count": null,
      "outputs": []
    },
    {
      "cell_type": "code",
      "source": [
        "from sklearn.metrics import f1_score, accuracy_score\n",
        "\n",
        "# разделяем обучающую выборку на собственно обучающую и валидационную\n",
        "rim = len(X_train)//100*75\n",
        "x_val = X_train[rim:]\n",
        "x_train = X_train[:rim]\n",
        "y_val = y_train[rim:]\n",
        "y_train = y_train[:rim]\n",
        "\n",
        "print(len(x_train), len(x_val), len(y_train), len(y_val))\n",
        "\n",
        "\n",
        "x_train_tfidf = tfidf.fit_transform(x_train)\n",
        "\n",
        "model = LogisticRegression()\n",
        "model.fit(x_train_tfidf, y_train)  # обучаем логистическую регрессию на обучающей выборке\n",
        "\n",
        "x_val_tfidf = tfidf.transform(x_val)\n",
        "y_val_pred = model.predict(x_val_tfidf)  # оцениваем работу модели на валидационной выборке\n",
        "\n",
        "print(\"Accuracy on train:\", accuracy_score(y_val, y_val_pred))\n",
        "print(\"F1-score on train:\", f1_score(y_val, y_val_pred, average=\"micro\"))"
      ],
      "metadata": {
        "colab": {
          "base_uri": "https://localhost:8080/"
        },
        "id": "ulfCuLP9SPBD",
        "outputId": "98450cea-0420-49e6-a267-d60793d097ed"
      },
      "execution_count": null,
      "outputs": [
        {
          "output_type": "stream",
          "name": "stdout",
          "text": [
            "1575 534 1575 534\n",
            "Accuracy on train: 0.9812734082397003\n",
            "F1-score on train: 0.9812734082397003\n"
          ]
        }
      ]
    },
    {
      "cell_type": "code",
      "source": [
        "# оцениваем работу модели на контрольной выборке\n",
        "x_test_tfidf = tfidf.transform(X_test)\n",
        "y_test_pred = model.predict(x_test_tfidf)\n",
        "\n",
        "print(\"Accuracy on test:\", accuracy_score(y_test, y_test_pred))\n",
        "print(\"F1-score on test:\", f1_score(y_test, y_test_pred, average=\"micro\"))"
      ],
      "metadata": {
        "colab": {
          "base_uri": "https://localhost:8080/"
        },
        "id": "Ii4KYByHSSF2",
        "outputId": "729b0551-9bde-4812-aab2-83726a205f86"
      },
      "execution_count": null,
      "outputs": [
        {
          "output_type": "stream",
          "name": "stdout",
          "text": [
            "Accuracy on test: 0.9758522727272727\n",
            "F1-score on test: 0.9758522727272727\n"
          ]
        }
      ]
    },
    {
      "cell_type": "code",
      "source": [
        "# проверяем верность класификатора (прредложения про погоду относятся к одному классу, предложения про еду - к другому)\n",
        "text1 = [\"it is good weather now\"]\n",
        "text2 = [\"what's the weather?\"]\n",
        "text3 = [\"today is hot and sunny\"]\n",
        "text4 = [\"what is your favourite food?\"]\n",
        "text5 = [\"cakes and donuts are delicious\"]\n",
        "text6 = [\"isn't this meal tasty?\"]\n",
        "textlist = [text1, text3, text5, text4, text2, text6]\n",
        "for text in textlist:\n",
        "  typo = tfidf.transform(text)\n",
        "  text_pred = model.predict(typo)\n",
        "  print(text_pred, text)"
      ],
      "metadata": {
        "colab": {
          "base_uri": "https://localhost:8080/"
        },
        "id": "7PgK5tU_CS3B",
        "outputId": "bd7b6bb3-70e7-4099-bcce-7b22c79c9046"
      },
      "execution_count": null,
      "outputs": [
        {
          "output_type": "stream",
          "name": "stdout",
          "text": [
            "[1] ['it is good weather now']\n",
            "[1] ['today is hot and sunny']\n",
            "[2] ['cakes and donuts are delicious']\n",
            "[2] ['what is your favourite food?']\n",
            "[1] [\"what's the weather?\"]\n",
            "[2] [\"isn't this meal tasty?\"]\n"
          ]
        }
      ]
    }
  ]
}